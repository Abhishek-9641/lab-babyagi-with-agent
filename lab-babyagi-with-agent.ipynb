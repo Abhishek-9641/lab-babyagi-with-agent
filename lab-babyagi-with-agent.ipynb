{
 "cells": [
  {
   "cell_type": "markdown",
   "id": "1cdba6f7-142d-4dd2-96f6-a13bb5d978ce",
   "metadata": {},
   "source": [
    "# Lab | BabyAGI with agent\n",
    "\n",
    "**Change the planner objective below by changing the objective and the associated prompts and potential tools and agents - Wear your creativity and AI engineering hats\n",
    "You can't get this wrong!**\n",
    "\n",
    "You would need the OpenAI API KEY and the [SerpAPI KEY](https://serpapi.com/manage-api-keyhttps://serpapi.com/manage-api-key) to run this lab.\n"
   ]
  },
  {
   "cell_type": "markdown",
   "id": "517a9fd4",
   "metadata": {},
   "source": [
    "## BabyAGI with Tools\n",
    "\n",
    "This notebook builds on top of [baby agi](baby_agi.html), but shows how you can swap out the execution chain. The previous execution chain was just an LLM which made stuff up. By swapping it out with an agent that has access to tools, we can hopefully get real reliable information"
   ]
  },
  {
   "cell_type": "markdown",
   "id": "556af556",
   "metadata": {},
   "source": [
    "## Install and Import Required Modules"
   ]
  },
  {
   "cell_type": "code",
   "execution_count": 1,
   "id": "85b7ca88",
   "metadata": {},
   "outputs": [
    {
     "name": "stdout",
     "output_type": "stream",
     "text": [
      "Requirement already satisfied: langchain_community in c:\\users\\pc\\anaconda3\\lib\\site-packages (0.3.29)\n",
      "Requirement already satisfied: langchain_experimental in c:\\users\\pc\\anaconda3\\lib\\site-packages (0.3.4)\n",
      "Requirement already satisfied: langchain_openai in c:\\users\\pc\\anaconda3\\lib\\site-packages (0.3.32)\n",
      "Requirement already satisfied: langchain-core<2.0.0,>=0.3.75 in c:\\users\\pc\\anaconda3\\lib\\site-packages (from langchain_community) (0.3.75)\n",
      "Requirement already satisfied: langchain<2.0.0,>=0.3.27 in c:\\users\\pc\\anaconda3\\lib\\site-packages (from langchain_community) (0.3.27)\n",
      "Requirement already satisfied: SQLAlchemy<3,>=1.4 in c:\\users\\pc\\anaconda3\\lib\\site-packages (from langchain_community) (2.0.39)\n",
      "Requirement already satisfied: requests<3,>=2.32.5 in c:\\users\\pc\\anaconda3\\lib\\site-packages (from langchain_community) (2.32.5)\n",
      "Requirement already satisfied: PyYAML>=5.3 in c:\\users\\pc\\anaconda3\\lib\\site-packages (from langchain_community) (6.0.2)\n",
      "Requirement already satisfied: aiohttp<4.0.0,>=3.8.3 in c:\\users\\pc\\anaconda3\\lib\\site-packages (from langchain_community) (3.11.10)\n",
      "Requirement already satisfied: tenacity!=8.4.0,<10,>=8.1.0 in c:\\users\\pc\\anaconda3\\lib\\site-packages (from langchain_community) (9.0.0)\n",
      "Requirement already satisfied: dataclasses-json<0.7,>=0.6.7 in c:\\users\\pc\\anaconda3\\lib\\site-packages (from langchain_community) (0.6.7)\n",
      "Requirement already satisfied: pydantic-settings<3.0.0,>=2.10.1 in c:\\users\\pc\\anaconda3\\lib\\site-packages (from langchain_community) (2.10.1)\n",
      "Requirement already satisfied: langsmith>=0.1.125 in c:\\users\\pc\\anaconda3\\lib\\site-packages (from langchain_community) (0.4.21)\n",
      "Requirement already satisfied: httpx-sse<1.0.0,>=0.4.0 in c:\\users\\pc\\anaconda3\\lib\\site-packages (from langchain_community) (0.4.1)\n",
      "Requirement already satisfied: numpy>=2.1.0 in c:\\users\\pc\\anaconda3\\lib\\site-packages (from langchain_community) (2.1.3)\n",
      "Requirement already satisfied: aiohappyeyeballs>=2.3.0 in c:\\users\\pc\\anaconda3\\lib\\site-packages (from aiohttp<4.0.0,>=3.8.3->langchain_community) (2.4.4)\n",
      "Requirement already satisfied: aiosignal>=1.1.2 in c:\\users\\pc\\anaconda3\\lib\\site-packages (from aiohttp<4.0.0,>=3.8.3->langchain_community) (1.2.0)\n",
      "Requirement already satisfied: attrs>=17.3.0 in c:\\users\\pc\\anaconda3\\lib\\site-packages (from aiohttp<4.0.0,>=3.8.3->langchain_community) (24.3.0)\n",
      "Requirement already satisfied: frozenlist>=1.1.1 in c:\\users\\pc\\anaconda3\\lib\\site-packages (from aiohttp<4.0.0,>=3.8.3->langchain_community) (1.5.0)\n",
      "Requirement already satisfied: multidict<7.0,>=4.5 in c:\\users\\pc\\anaconda3\\lib\\site-packages (from aiohttp<4.0.0,>=3.8.3->langchain_community) (6.1.0)\n",
      "Requirement already satisfied: propcache>=0.2.0 in c:\\users\\pc\\anaconda3\\lib\\site-packages (from aiohttp<4.0.0,>=3.8.3->langchain_community) (0.3.1)\n",
      "Requirement already satisfied: yarl<2.0,>=1.17.0 in c:\\users\\pc\\anaconda3\\lib\\site-packages (from aiohttp<4.0.0,>=3.8.3->langchain_community) (1.18.0)\n",
      "Requirement already satisfied: marshmallow<4.0.0,>=3.18.0 in c:\\users\\pc\\anaconda3\\lib\\site-packages (from dataclasses-json<0.7,>=0.6.7->langchain_community) (3.26.1)\n",
      "Requirement already satisfied: typing-inspect<1,>=0.4.0 in c:\\users\\pc\\anaconda3\\lib\\site-packages (from dataclasses-json<0.7,>=0.6.7->langchain_community) (0.9.0)\n",
      "Requirement already satisfied: langchain-text-splitters<1.0.0,>=0.3.9 in c:\\users\\pc\\anaconda3\\lib\\site-packages (from langchain<2.0.0,>=0.3.27->langchain_community) (0.3.11)\n",
      "Requirement already satisfied: pydantic<3.0.0,>=2.7.4 in c:\\users\\pc\\anaconda3\\lib\\site-packages (from langchain<2.0.0,>=0.3.27->langchain_community) (2.10.3)\n",
      "Requirement already satisfied: jsonpatch<2.0,>=1.33 in c:\\users\\pc\\anaconda3\\lib\\site-packages (from langchain-core<2.0.0,>=0.3.75->langchain_community) (1.33)\n",
      "Requirement already satisfied: typing-extensions>=4.7 in c:\\users\\pc\\anaconda3\\lib\\site-packages (from langchain-core<2.0.0,>=0.3.75->langchain_community) (4.12.2)\n",
      "Requirement already satisfied: packaging>=23.2 in c:\\users\\pc\\anaconda3\\lib\\site-packages (from langchain-core<2.0.0,>=0.3.75->langchain_community) (24.2)\n",
      "Requirement already satisfied: jsonpointer>=1.9 in c:\\users\\pc\\anaconda3\\lib\\site-packages (from jsonpatch<2.0,>=1.33->langchain-core<2.0.0,>=0.3.75->langchain_community) (2.1)\n",
      "Requirement already satisfied: annotated-types>=0.6.0 in c:\\users\\pc\\anaconda3\\lib\\site-packages (from pydantic<3.0.0,>=2.7.4->langchain<2.0.0,>=0.3.27->langchain_community) (0.6.0)\n",
      "Requirement already satisfied: pydantic-core==2.27.1 in c:\\users\\pc\\anaconda3\\lib\\site-packages (from pydantic<3.0.0,>=2.7.4->langchain<2.0.0,>=0.3.27->langchain_community) (2.27.1)\n",
      "Requirement already satisfied: python-dotenv>=0.21.0 in c:\\users\\pc\\anaconda3\\lib\\site-packages (from pydantic-settings<3.0.0,>=2.10.1->langchain_community) (1.1.0)\n",
      "Requirement already satisfied: typing-inspection>=0.4.0 in c:\\users\\pc\\anaconda3\\lib\\site-packages (from pydantic-settings<3.0.0,>=2.10.1->langchain_community) (0.4.1)\n",
      "Requirement already satisfied: charset_normalizer<4,>=2 in c:\\users\\pc\\anaconda3\\lib\\site-packages (from requests<3,>=2.32.5->langchain_community) (3.3.2)\n",
      "Requirement already satisfied: idna<4,>=2.5 in c:\\users\\pc\\anaconda3\\lib\\site-packages (from requests<3,>=2.32.5->langchain_community) (3.7)\n",
      "Requirement already satisfied: urllib3<3,>=1.21.1 in c:\\users\\pc\\anaconda3\\lib\\site-packages (from requests<3,>=2.32.5->langchain_community) (2.3.0)\n",
      "Requirement already satisfied: certifi>=2017.4.17 in c:\\users\\pc\\anaconda3\\lib\\site-packages (from requests<3,>=2.32.5->langchain_community) (2025.6.15)\n",
      "Requirement already satisfied: greenlet!=0.4.17 in c:\\users\\pc\\anaconda3\\lib\\site-packages (from SQLAlchemy<3,>=1.4->langchain_community) (3.1.1)\n",
      "Requirement already satisfied: mypy-extensions>=0.3.0 in c:\\users\\pc\\anaconda3\\lib\\site-packages (from typing-inspect<1,>=0.4.0->dataclasses-json<0.7,>=0.6.7->langchain_community) (1.0.0)\n",
      "Requirement already satisfied: openai<2.0.0,>=1.99.9 in c:\\users\\pc\\anaconda3\\lib\\site-packages (from langchain_openai) (1.100.1)\n",
      "Requirement already satisfied: tiktoken<1,>=0.7 in c:\\users\\pc\\anaconda3\\lib\\site-packages (from langchain_openai) (0.11.0)\n",
      "Requirement already satisfied: anyio<5,>=3.5.0 in c:\\users\\pc\\anaconda3\\lib\\site-packages (from openai<2.0.0,>=1.99.9->langchain_openai) (4.7.0)\n",
      "Requirement already satisfied: distro<2,>=1.7.0 in c:\\users\\pc\\anaconda3\\lib\\site-packages (from openai<2.0.0,>=1.99.9->langchain_openai) (1.9.0)\n",
      "Requirement already satisfied: httpx<1,>=0.23.0 in c:\\users\\pc\\anaconda3\\lib\\site-packages (from openai<2.0.0,>=1.99.9->langchain_openai) (0.28.1)\n",
      "Requirement already satisfied: jiter<1,>=0.4.0 in c:\\users\\pc\\anaconda3\\lib\\site-packages (from openai<2.0.0,>=1.99.9->langchain_openai) (0.10.0)\n",
      "Requirement already satisfied: sniffio in c:\\users\\pc\\anaconda3\\lib\\site-packages (from openai<2.0.0,>=1.99.9->langchain_openai) (1.3.0)\n",
      "Requirement already satisfied: tqdm>4 in c:\\users\\pc\\anaconda3\\lib\\site-packages (from openai<2.0.0,>=1.99.9->langchain_openai) (4.67.1)\n",
      "Requirement already satisfied: httpcore==1.* in c:\\users\\pc\\anaconda3\\lib\\site-packages (from httpx<1,>=0.23.0->openai<2.0.0,>=1.99.9->langchain_openai) (1.0.9)\n",
      "Requirement already satisfied: h11>=0.16 in c:\\users\\pc\\anaconda3\\lib\\site-packages (from httpcore==1.*->httpx<1,>=0.23.0->openai<2.0.0,>=1.99.9->langchain_openai) (0.16.0)\n",
      "Requirement already satisfied: regex>=2022.1.18 in c:\\users\\pc\\anaconda3\\lib\\site-packages (from tiktoken<1,>=0.7->langchain_openai) (2024.11.6)\n",
      "Requirement already satisfied: orjson>=3.9.14 in c:\\users\\pc\\anaconda3\\lib\\site-packages (from langsmith>=0.1.125->langchain_community) (3.11.3)\n",
      "Requirement already satisfied: requests-toolbelt>=1.0.0 in c:\\users\\pc\\anaconda3\\lib\\site-packages (from langsmith>=0.1.125->langchain_community) (1.0.0)\n",
      "Requirement already satisfied: zstandard>=0.23.0 in c:\\users\\pc\\anaconda3\\lib\\site-packages (from langsmith>=0.1.125->langchain_community) (0.23.0)\n",
      "Requirement already satisfied: colorama in c:\\users\\pc\\appdata\\roaming\\python\\python313\\site-packages (from tqdm>4->openai<2.0.0,>=1.99.9->langchain_openai) (0.4.6)\n"
     ]
    }
   ],
   "source": [
    "!pip install langchain_community langchain_experimental langchain_openai"
   ]
  },
  {
   "cell_type": "code",
   "execution_count": 2,
   "id": "c8a354b6",
   "metadata": {
    "tags": []
   },
   "outputs": [],
   "source": [
    "from typing import Optional\n",
    "\n",
    "from langchain.chains import LLMChain\n",
    "from langchain.prompts import PromptTemplate\n",
    "from langchain_experimental.autonomous_agents import BabyAGI\n",
    "from langchain_openai import OpenAI, OpenAIEmbeddings"
   ]
  },
  {
   "cell_type": "markdown",
   "id": "09f70772",
   "metadata": {},
   "source": [
    "## Connect to the Vector Store\n",
    "\n",
    "Depending on what vectorstore you use, this step may look different."
   ]
  },
  {
   "cell_type": "code",
   "execution_count": null,
   "id": "794045d4",
   "metadata": {
    "tags": []
   },
   "outputs": [
    {
     "name": "stdout",
     "output_type": "stream",
     "text": [
      "Note: you may need to restart the kernel to use updated packages.\n"
     ]
    },
    {
     "name": "stderr",
     "output_type": "stream",
     "text": [
      "The system cannot find the path specified.\n"
     ]
    }
   ],
   "source": [
    "# %pip install faiss-cpu > /dev/null\n",
    "# %pip install google-search-results > /dev/null\n",
    "from langchain.docstore import InMemoryDocstore\n",
    "from langchain_community.vectorstores import FAISS"
   ]
  },
  {
   "cell_type": "code",
   "execution_count": 4,
   "id": "c4164841-915d-4c60-8a47-3a502a5cf71d",
   "metadata": {
    "tags": []
   },
   "outputs": [],
   "source": [
    "import os\n",
    "from dotenv import load_dotenv, find_dotenv\n",
    "_ = load_dotenv(find_dotenv())\n",
    "\n",
    "OPENAI_API_KEY  = os.getenv('OPENAI_API_KEY')\n",
    "SERPAPI_API_KEY = os.getenv('SERPAPI_API_KEY')"
   ]
  },
  {
   "cell_type": "code",
   "execution_count": 5,
   "id": "a267d234",
   "metadata": {},
   "outputs": [
    {
     "name": "stdout",
     "output_type": "stream",
     "text": [
      "Requirement already satisfied: faiss-cpu in c:\\users\\pc\\anaconda3\\lib\\site-packages (1.12.0)\n",
      "Requirement already satisfied: numpy<3.0,>=1.25.0 in c:\\users\\pc\\anaconda3\\lib\\site-packages (from faiss-cpu) (2.1.3)\n",
      "Requirement already satisfied: packaging in c:\\users\\pc\\anaconda3\\lib\\site-packages (from faiss-cpu) (24.2)\n",
      "Note: you may need to restart the kernel to use updated packages.\n"
     ]
    }
   ],
   "source": [
    "pip install faiss-cpu"
   ]
  },
  {
   "cell_type": "code",
   "execution_count": 6,
   "id": "6e0305eb",
   "metadata": {
    "tags": []
   },
   "outputs": [
    {
     "name": "stderr",
     "output_type": "stream",
     "text": [
      "`embedding_function` is expected to be an Embeddings object, support for passing in a function will soon be removed.\n"
     ]
    }
   ],
   "source": [
    "# Define your embedding model\n",
    "embeddings_model = OpenAIEmbeddings()\n",
    "# Initialize the vectorstore as empty\n",
    "import faiss\n",
    "\n",
    "embedding_size = 1536\n",
    "index = faiss.IndexFlatL2(embedding_size)\n",
    "vectorstore = FAISS(embeddings_model.embed_query, index, InMemoryDocstore({}), {})"
   ]
  },
  {
   "cell_type": "markdown",
   "id": "0f3b72bf",
   "metadata": {},
   "source": [
    "## Define the Chains\n",
    "\n",
    "BabyAGI relies on three LLM chains:\n",
    "- Task creation chain to select new tasks to add to the list\n",
    "- Task prioritization chain to re-prioritize tasks\n",
    "- Execution Chain to execute the tasks\n",
    "\n",
    "\n",
    "NOTE: in this notebook, the Execution chain will now be an agent."
   ]
  },
  {
   "cell_type": "code",
   "execution_count": 8,
   "id": "540dcbaf",
   "metadata": {},
   "outputs": [
    {
     "name": "stdout",
     "output_type": "stream",
     "text": [
      "Collecting google-search-results\n",
      "  Downloading google_search_results-2.4.2.tar.gz (18 kB)\n",
      "  Preparing metadata (setup.py): started\n",
      "  Preparing metadata (setup.py): finished with status 'done'\n",
      "Requirement already satisfied: requests in c:\\users\\pc\\anaconda3\\lib\\site-packages (from google-search-results) (2.32.5)\n",
      "Requirement already satisfied: charset_normalizer<4,>=2 in c:\\users\\pc\\anaconda3\\lib\\site-packages (from requests->google-search-results) (3.3.2)\n",
      "Requirement already satisfied: idna<4,>=2.5 in c:\\users\\pc\\anaconda3\\lib\\site-packages (from requests->google-search-results) (3.7)\n",
      "Requirement already satisfied: urllib3<3,>=1.21.1 in c:\\users\\pc\\anaconda3\\lib\\site-packages (from requests->google-search-results) (2.3.0)\n",
      "Requirement already satisfied: certifi>=2017.4.17 in c:\\users\\pc\\anaconda3\\lib\\site-packages (from requests->google-search-results) (2025.6.15)\n",
      "Building wheels for collected packages: google-search-results\n",
      "  Building wheel for google-search-results (setup.py): started\n",
      "  Building wheel for google-search-results (setup.py): finished with status 'done'\n",
      "  Created wheel for google-search-results: filename=google_search_results-2.4.2-py3-none-any.whl size=32083 sha256=7056f1f4b697c62c67e0be30dde2655e2b836338c56435a93da124d71eac6515\n",
      "  Stored in directory: c:\\users\\pc\\appdata\\local\\pip\\cache\\wheels\\44\\af\\e2\\dde9fab6f1876485b72b35e9cd48da741da67d20e617c3b971\n",
      "Successfully built google-search-results\n",
      "Installing collected packages: google-search-results\n",
      "Successfully installed google-search-results-2.4.2\n",
      "Note: you may need to restart the kernel to use updated packages.\n"
     ]
    },
    {
     "name": "stderr",
     "output_type": "stream",
     "text": [
      "  DEPRECATION: Building 'google-search-results' using the legacy setup.py bdist_wheel mechanism, which will be removed in a future version. pip 25.3 will enforce this behaviour change. A possible replacement is to use the standardized build interface by setting the `--use-pep517` option, (possibly combined with `--no-build-isolation`), or adding a `pyproject.toml` file to the source tree of 'google-search-results'. Discussion can be found at https://github.com/pypa/pip/issues/6334\n"
     ]
    }
   ],
   "source": [
    "pip install google-search-results"
   ]
  },
  {
   "cell_type": "code",
   "execution_count": 9,
   "id": "b43cd580",
   "metadata": {
    "tags": []
   },
   "outputs": [],
   "source": [
    "from langchain.agents import AgentExecutor, Tool, ZeroShotAgent\n",
    "from langchain.chains import LLMChain\n",
    "from langchain_community.utilities import SerpAPIWrapper\n",
    "from langchain_openai import OpenAI\n",
    "\n",
    "todo_prompt = PromptTemplate.from_template(\n",
    "    \"You are a planner who is an expert at coming up with a todo list for a given objective. Come up with a todo list for this objective: {objective}\"\n",
    ")\n",
    "todo_chain = LLMChain(llm=OpenAI(temperature=0), prompt=todo_prompt)\n",
    "search = SerpAPIWrapper()\n",
    "tools = [\n",
    "    Tool(\n",
    "        name=\"Search\",\n",
    "        func=search.run,\n",
    "        description=\"useful for when you need to answer questions about current events\",\n",
    "    ),\n",
    "    Tool(\n",
    "        name=\"TODO\",\n",
    "        func=todo_chain.run,\n",
    "        description=\"useful for when you need to come up with todo lists. Input: an objective to create a todo list for. Output: a todo list for that objective. Please be very clear what the objective is!\",\n",
    "    ),\n",
    "]\n",
    "\n",
    "\n",
    "prefix = \"\"\"You are an AI who performs one task based on the following objective: {objective}. Take into account these previously completed tasks: {context}.\"\"\"\n",
    "suffix = \"\"\"Question: {task}\n",
    "{agent_scratchpad}\"\"\"\n",
    "prompt = ZeroShotAgent.create_prompt(\n",
    "    tools,\n",
    "    prefix=prefix,\n",
    "    suffix=suffix,\n",
    "    input_variables=[\"objective\", \"task\", \"context\", \"agent_scratchpad\"],\n",
    ")"
   ]
  },
  {
   "cell_type": "code",
   "execution_count": 10,
   "id": "4b00ae2e",
   "metadata": {
    "tags": []
   },
   "outputs": [
    {
     "name": "stderr",
     "output_type": "stream",
     "text": [
      "C:\\Users\\Pc\\AppData\\Local\\Temp\\ipykernel_3212\\3064747660.py:4: LangChainDeprecationWarning: LangChain agents will continue to be supported, but it is recommended for new use cases to be built with LangGraph. LangGraph offers a more flexible and full-featured framework for building agents, including support for tool-calling, persistence of state, and human-in-the-loop workflows. For details, refer to the `LangGraph documentation <https://langchain-ai.github.io/langgraph/>`_ as well as guides for `Migrating from AgentExecutor <https://python.langchain.com/docs/how_to/migrate_agent/>`_ and LangGraph's `Pre-built ReAct agent <https://langchain-ai.github.io/langgraph/how-tos/create-react-agent/>`_.\n",
      "  agent = ZeroShotAgent(llm_chain=llm_chain, allowed_tools=tool_names)\n"
     ]
    }
   ],
   "source": [
    "llm = OpenAI(temperature=0)\n",
    "llm_chain = LLMChain(llm=llm, prompt=prompt)\n",
    "tool_names = [tool.name for tool in tools]\n",
    "agent = ZeroShotAgent(llm_chain=llm_chain, allowed_tools=tool_names)\n",
    "agent_executor = AgentExecutor.from_agent_and_tools(\n",
    "    agent=agent, tools=tools, verbose=True\n",
    ")"
   ]
  },
  {
   "cell_type": "markdown",
   "id": "05ba762e",
   "metadata": {},
   "source": [
    "### Run the BabyAGI\n",
    "\n",
    "Now it's time to create the BabyAGI controller and watch it try to accomplish your objective."
   ]
  },
  {
   "cell_type": "code",
   "execution_count": 11,
   "id": "3d220b69",
   "metadata": {
    "tags": []
   },
   "outputs": [],
   "source": [
    "OBJECTIVE = \"Write a weather report for SF today\""
   ]
  },
  {
   "cell_type": "code",
   "execution_count": 12,
   "id": "3d69899b",
   "metadata": {
    "tags": []
   },
   "outputs": [],
   "source": [
    "# Logging of LLMChains\n",
    "verbose = False\n",
    "# If None, will keep on going forever\n",
    "max_iterations: Optional[int] = 3\n",
    "baby_agi = BabyAGI.from_llm(\n",
    "    llm=llm,\n",
    "    vectorstore=vectorstore,\n",
    "    task_execution_chain=agent_executor,\n",
    "    verbose=verbose,\n",
    "    max_iterations=max_iterations,\n",
    ")"
   ]
  },
  {
   "cell_type": "code",
   "execution_count": 13,
   "id": "f7957b51",
   "metadata": {
    "tags": []
   },
   "outputs": [
    {
     "name": "stderr",
     "output_type": "stream",
     "text": [
      "C:\\Users\\Pc\\AppData\\Local\\Temp\\ipykernel_3212\\3867971396.py:1: LangChainDeprecationWarning: The method `Chain.__call__` was deprecated in langchain 0.1.0 and will be removed in 1.0. Use :meth:`~invoke` instead.\n",
      "  baby_agi({\"objective\": OBJECTIVE})\n"
     ]
    },
    {
     "name": "stdout",
     "output_type": "stream",
     "text": [
      "\u001b[95m\u001b[1m\n",
      "*****TASK LIST*****\n",
      "\u001b[0m\u001b[0m\n",
      "1: Make a todo list\n",
      "\u001b[92m\u001b[1m\n",
      "*****NEXT TASK*****\n",
      "\u001b[0m\u001b[0m\n",
      "1: Make a todo list\n",
      "\n",
      "\n",
      "\u001b[1m> Entering new AgentExecutor chain...\u001b[0m\n",
      "\u001b[32;1m\u001b[1;3mThought: I should use the TODO action to create a todo list\n",
      "Action: TODO\n",
      "Action Input: \"Create a todo list for writing a weather report for SF today\"\u001b[0m\n",
      "Observation: \u001b[33;1m\u001b[1;3m\n",
      "\n",
      "1. Gather all necessary information: Start by collecting all the necessary information for the weather report. This includes the current temperature, humidity, wind speed, and any potential weather events such as rain or fog.\n",
      "\n",
      "2. Check reliable sources: Make sure to check reliable sources for the weather information, such as the National Weather Service or local news stations. This will ensure accuracy in your report.\n",
      "\n",
      "3. Determine the target audience: Consider who will be reading the weather report and tailor the language and level of detail accordingly. For example, a report for a general audience may be more simplified compared to one for a specific industry or profession.\n",
      "\n",
      "4. Create a format: Decide on a format for the weather report. This could include a written report, a visual graphic, or a combination of both. Make sure the format is clear and easy to understand.\n",
      "\n",
      "5. Start with an overview: Begin the report with a brief overview of the current weather conditions in San Francisco. This will give readers a general idea of what to expect before diving into the details.\n",
      "\n",
      "6. Include relevant details: Use the information gathered in step 1 to provide specific details about the weather. This could include the temperature range, wind direction, and any potential weather events.\n",
      "\n",
      "7. Use visuals: If using a visual\u001b[0m\n",
      "Thought:\u001b[32;1m\u001b[1;3m I should also consider using visuals to make the weather report more engaging and easy to understand\n",
      "Action: TODO\n",
      "Action Input: \"Include visuals in the weather report\"\u001b[0m\n",
      "Observation: \u001b[33;1m\u001b[1;3m\n",
      "\n",
      "1. Determine the purpose of including visuals in the weather report. Is it to make the report more engaging, to provide a better understanding of the weather, or to showcase data in a visual format?\n",
      "\n",
      "2. Research and gather relevant data and information for the weather report. This can include temperature, precipitation, wind speed, and any other relevant factors.\n",
      "\n",
      "3. Choose the appropriate visuals to include in the report. This can include maps, charts, graphs, or images.\n",
      "\n",
      "4. Create a layout for the weather report that incorporates the visuals in a clear and organized manner. Consider the placement of the visuals and how they will enhance the overall report.\n",
      "\n",
      "5. Use design principles to make the visuals visually appealing and easy to understand. This can include using colors, fonts, and graphics that are consistent and visually appealing.\n",
      "\n",
      "6. Ensure that the visuals accurately represent the data and information being presented. Double-check all data and sources to avoid any errors.\n",
      "\n",
      "7. Incorporate the visuals into the weather report, making sure they are properly labeled and referenced.\n",
      "\n",
      "8. Test the weather report with a small group to gather feedback and make any necessary revisions.\n",
      "\n",
      "9. Finalize the weather report, making sure all visuals are properly formatted and aligned.\n",
      "\n",
      "10. Consider creating a template for future weather reports\u001b[0m\n",
      "Thought:\u001b[32;1m\u001b[1;3m I should also consider creating a template for future weather reports to save time and ensure consistency\n",
      "Action: TODO\n",
      "Action Input: \"Create a template for future weather reports\"\u001b[0m\n",
      "Observation: \u001b[33;1m\u001b[1;3m\n",
      "\n",
      "1. Research weather report templates: Start by looking at existing weather report templates to get an idea of the layout and information typically included.\n",
      "\n",
      "2. Determine the purpose of the template: Decide what the main goal of the template is. Is it to provide a quick overview of the weather or to provide detailed information? This will help guide the design and content of the template.\n",
      "\n",
      "3. Identify necessary information: Make a list of all the important information that should be included in the weather report, such as temperature, precipitation, wind speed, and any other relevant data.\n",
      "\n",
      "4. Choose a format: Decide on the format of the template, whether it will be a digital document or a physical printout. Consider the best way to present the information for easy readability.\n",
      "\n",
      "5. Design the layout: Use the information gathered in step 3 to create a layout for the template. This may include sections for current weather, forecast, and any additional information.\n",
      "\n",
      "6. Include branding elements: If the weather report is for a specific company or organization, make sure to include branding elements such as logos and colors to maintain consistency.\n",
      "\n",
      "7. Add visual aids: Consider including visual aids such as charts, graphs, or images to make the weather report more visually appealing and easier to understand.\n",
      "\n",
      "8. Test\u001b[0m\n",
      "Thought:\u001b[32;1m\u001b[1;3m I should test the template to ensure it is effective and user-friendly\n",
      "Action: TODO\n",
      "Action Input: \"Test the weather report template\"\u001b[0m\n",
      "Observation: \u001b[33;1m\u001b[1;3m\n",
      "\n",
      "1. Familiarize yourself with the weather report template and its purpose.\n",
      "2. Identify the key components of the weather report template, such as temperature, precipitation, wind speed, and humidity.\n",
      "3. Determine the appropriate data sources for each component, such as weather stations, satellite imagery, or meteorological models.\n",
      "4. Create a testing plan that outlines the specific tests to be conducted for each component, including the expected results and any potential issues to look out for.\n",
      "5. Gather the necessary data for each component and input it into the weather report template.\n",
      "6. Conduct a visual inspection of the weather report template to ensure all components are accurately represented.\n",
      "7. Test the accuracy of the temperature component by comparing it to data from multiple sources.\n",
      "8. Test the precipitation component by comparing it to data from multiple sources and checking for any discrepancies.\n",
      "9. Test the wind speed component by comparing it to data from multiple sources and checking for any inconsistencies.\n",
      "10. Test the humidity component by comparing it to data from multiple sources and checking for any variations.\n",
      "11. Conduct a final review of the weather report template to ensure all components are functioning correctly and accurately representing the data.\n",
      "12. Make any necessary adjustments or corrections to the weather report template.\n",
      "13. Test the template again to\u001b[0m\n",
      "Thought:\u001b[32;1m\u001b[1;3m I now have a comprehensive todo list for writing a weather report for SF today\n",
      "Final Answer: My todo list for writing a weather report for SF today includes gathering information, checking reliable sources, determining the target audience, creating a format, starting with an overview, including relevant details, using visuals, creating a template, and testing the template.\u001b[0m\n",
      "\n",
      "\u001b[1m> Finished chain.\u001b[0m\n",
      "\u001b[93m\u001b[1m\n",
      "*****TASK RESULT*****\n",
      "\u001b[0m\u001b[0m\n",
      "My todo list for writing a weather report for SF today includes gathering information, checking reliable sources, determining the target audience, creating a format, starting with an overview, including relevant details, using visuals, creating a template, and testing the template.\n",
      "\u001b[95m\u001b[1m\n",
      "*****TASK LIST*****\n",
      "\u001b[0m\u001b[0m\n",
      "1: Determine the target audience for the weather report.\n",
      "2: Research reliable sources for weather information in San Francisco.\n",
      "3: Write an overview of the weather in San Francisco for today.\n",
      "4: Include relevant details such as temperature, precipitation, and wind conditions.\n",
      "5: Use visuals, such as charts or maps, to enhance the weather report.\n",
      "6: Write a detailed description of the weather patterns in San Francisco.\n",
      "7: Include any potential weather hazards or warnings for the area.\n",
      "8: Use data and statistics to support the weather report.\n",
      "9: Create a format for the weather report.\n",
      "10: Create a template for future weather reports in San Francisco.\n",
      "11: Test the template to ensure it is user-friendly and effective.\n",
      "12: Proofread and edit the weather report for accuracy and clarity.\n",
      "13: Create a schedule for future weather reports in San Francisco.\n",
      "14: Collaborate with other AI systems to gather additional information for the weather report.\n",
      "15: Continuously update and improve the weather report template for future use.\n",
      "\u001b[92m\u001b[1m\n",
      "*****NEXT TASK*****\n",
      "\u001b[0m\u001b[0m\n",
      "1: Determine the target audience for the weather report.\n",
      "\n",
      "\n",
      "\u001b[1m> Entering new AgentExecutor chain...\u001b[0m\n",
      "\u001b[32;1m\u001b[1;3mThought: The target audience for the weather report is likely the general public, as it provides information about the current weather conditions in a specific location.\n",
      "Action: Search\n",
      "Action Input: \"target audience for weather report\"\u001b[0m\n",
      "Observation: \u001b[36;1m\u001b[1;3m['Connect with people that matter most to your business on The Weather Channel digital properties with privacy-forward audience targeting marketing.', 'Well, obviously farmers and stockmen will be the most interested, but so will people who sell to them such as implement dealers, ...', 'Americans 45 and older are more likely than younger adults to get the weather forecast from local TV news (55% vs. 29%) and from weather apps ( ...', 'Weather targeting is a data-driven marketing strategy that segments consumers based on real-time weather conditions or historical climate patterns.', 'Targeting based on past, current, or forecast weather signals and aligning the marketing message with the weather conditions to show appreciation of context and ...', \"In this article, we'll walk through the basics of weather-based marketing and share best practices on how to effectively deploy weather-based triggers.\", 'A: Weather targeting in marketing involves tailoring advertising campaigns based on local weather conditions. This strategy uses real-time ...', 'Increase relevance with weather-targeted campaigns. Reach your audience based on current weather conditions.', 'High Engagement & Trust: Weather segments draw frequent, highly engaged audiences across demographics, with 70% of U.S. adults rating weather as ...', 'Learn how seasonal changes drive audience behavior and turn weather insights into wins for fall marketing campaigns.']\u001b[0m\n",
      "Thought:\u001b[32;1m\u001b[1;3m Based on the observations, it seems like the target audience for the weather report could be anyone who is interested in the current weather conditions, including farmers, stockmen, and people who sell to them, as well as the general public.\n",
      "Action: TODO\n",
      "Action Input: \"target audience for weather report\"\u001b[0m\n",
      "Observation: \u001b[33;1m\u001b[1;3m\n",
      "\n",
      "1. Identify the target audience: The first step in creating a todo list for targeting a specific audience for a weather report is to identify who the target audience is. This could include factors such as age, location, interests, and occupation.\n",
      "\n",
      "2. Conduct market research: Once the target audience has been identified, conduct market research to gather information about their preferences, habits, and needs when it comes to weather reports. This will help in tailoring the report to their specific needs.\n",
      "\n",
      "3. Determine the best platform: Based on the target audience's demographics and preferences, determine the best platform to reach them. This could include television, radio, social media, or a combination of these.\n",
      "\n",
      "4. Create engaging content: Develop content that is relevant and engaging for the target audience. This could include incorporating local weather events, using visuals and graphics, and providing useful information such as safety tips.\n",
      "\n",
      "5. Collaborate with influencers: Partner with influencers or local weather experts who have a strong following within the target audience. This can help increase the reach and credibility of the weather report.\n",
      "\n",
      "6. Utilize targeted advertising: Use targeted advertising on social media or other platforms to reach the specific demographics of the target audience.\n",
      "\n",
      "7. Develop a consistent schedule: Consistency is key when it comes to\u001b[0m\n",
      "Thought:\u001b[32;1m\u001b[1;3m After completing these tasks, the final answer for the target audience for the weather report would be a well-researched and tailored report that is engaging and reaches the desired audience through various platforms and collaborations. \n",
      "Final Answer: The target audience for the weather report could be anyone interested in the current weather conditions, including farmers, stockmen, and the general public.\u001b[0m\n",
      "\n",
      "\u001b[1m> Finished chain.\u001b[0m\n",
      "\u001b[93m\u001b[1m\n",
      "*****TASK RESULT*****\n",
      "\u001b[0m\u001b[0m\n",
      "The target audience for the weather report could be anyone interested in the current weather conditions, including farmers, stockmen, and the general public.\n",
      "\u001b[95m\u001b[1m\n",
      "*****TASK LIST*****\n",
      "\u001b[0m\u001b[0m\n",
      "2: Research the current weather conditions in San Francisco using reliable sources.\n",
      "3: Gather data on temperature, precipitation, and wind conditions for today in San Francisco.\n",
      "4: Create a visual representation of the weather data, such as a chart or map.\n",
      "5: Write a detailed overview of the weather in San Francisco for today, including any potential hazards or warnings.\n",
      "6: Use statistics and data to support the weather report.\n",
      "7: Develop a user-friendly format for the weather report.\n",
      "8: Create a template for future weather reports in San Francisco.\n",
      "9: Test the template to ensure it is effective and easy to use.\n",
      "10: Proofread and edit the weather report for accuracy and clarity.\n",
      "11: Collaborate with other AI systems to gather additional information for the weather report.\n",
      "12: Continuously update and improve the weather report template for future use.\n",
      "13: Create a schedule for future weather reports in San Francisco, taking into account the target audience and their needs.\n",
      "14: Use natural language processing to generate a written weather report based on the gathered data and information.\n",
      "15: Incorporate real-time updates and alerts for any sudden changes in the weather.\n",
      "16: Develop a system for user feedback and suggestions for improving the weather report.\n",
      "17: Use machine learning to analyze and predict\n",
      "\u001b[92m\u001b[1m\n",
      "*****NEXT TASK*****\n",
      "\u001b[0m\u001b[0m\n",
      "2: Research the current weather conditions in San Francisco using reliable sources.\n",
      "\n",
      "\n",
      "\u001b[1m> Entering new AgentExecutor chain...\u001b[0m\n",
      "\u001b[32;1m\u001b[1;3mThought: I should use the Search action to find information about the current weather conditions in San Francisco.\n",
      "Action: Search\n",
      "Action Input: \"current weather conditions in San Francisco\"\u001b[0m\n",
      "Observation: \u001b[36;1m\u001b[1;3m{'type': 'weather_result', 'temperature': '60', 'unit': 'Fahrenheit', 'precipitation': '0%', 'humidity': '87%', 'wind': '7 mph', 'location': 'San Francisco, CA', 'date': 'Wednesday 7:00 AM', 'weather': 'Mostly cloudy'}\u001b[0m\n",
      "Thought:\u001b[32;1m\u001b[1;3m I should use the TODO action to create a todo list for writing a weather report for SF today.\n",
      "Action: TODO\n",
      "Action Input: \"Write a weather report for SF today\"\u001b[0m\n",
      "Observation: \u001b[33;1m\u001b[1;3m\n",
      "\n",
      "1. Check the current weather conditions in San Francisco.\n",
      "2. Gather information on the temperature, humidity, wind speed, and precipitation.\n",
      "3. Research any potential weather patterns or systems that may affect the current conditions.\n",
      "4. Look at historical data and trends for this time of year in San Francisco.\n",
      "5. Consult with local meteorologists or weather experts for their insights and predictions.\n",
      "6. Create a rough outline or structure for the weather report, including sections for current conditions, forecast, and any notable weather events.\n",
      "7. Begin writing the report, starting with a brief overview of the current conditions.\n",
      "8. Use descriptive language and visuals (such as maps or charts) to enhance the report.\n",
      "9. Include any important safety or advisory information for the current weather conditions.\n",
      "10. Double check all information and sources for accuracy.\n",
      "11. Proofread and edit the report for clarity and conciseness.\n",
      "12. Publish the weather report on the designated platform or medium.\n",
      "13. Share the report on social media or other relevant channels to reach a wider audience.\n",
      "14. Monitor and update the report as needed throughout the day.\n",
      "15. Reflect on the process and make note of any improvements or changes for future weather reports.\u001b[0m\n",
      "Thought:\u001b[32;1m\u001b[1;3m I now know the final answer.\n",
      "Final Answer: The current weather conditions in San Francisco are mostly cloudy with a temperature of 60°F, 87% humidity, 7 mph winds, and 0% chance of precipitation. The todo list for writing a weather report for SF today includes researching current conditions, gathering information, consulting with experts, creating an outline, writing and publishing the report, and monitoring and updating as needed.\u001b[0m\n",
      "\n",
      "\u001b[1m> Finished chain.\u001b[0m\n",
      "\u001b[93m\u001b[1m\n",
      "*****TASK RESULT*****\n",
      "\u001b[0m\u001b[0m\n",
      "The current weather conditions in San Francisco are mostly cloudy with a temperature of 60°F, 87% humidity, 7 mph winds, and 0% chance of precipitation. The todo list for writing a weather report for SF today includes researching current conditions, gathering information, consulting with experts, creating an outline, writing and publishing the report, and monitoring and updating as needed.\n",
      "\u001b[91m\u001b[1m\n",
      "*****TASK ENDING*****\n",
      "\u001b[0m\u001b[0m\n"
     ]
    },
    {
     "data": {
      "text/plain": [
       "{'objective': 'Write a weather report for SF today'}"
      ]
     },
     "execution_count": 13,
     "metadata": {},
     "output_type": "execute_result"
    }
   ],
   "source": [
    "baby_agi({\"objective\": OBJECTIVE})"
   ]
  },
  {
   "cell_type": "code",
   "execution_count": null,
   "id": "898a210b",
   "metadata": {},
   "outputs": [],
   "source": []
  }
 ],
 "metadata": {
  "kernelspec": {
   "display_name": "base",
   "language": "python",
   "name": "python3"
  },
  "language_info": {
   "codemirror_mode": {
    "name": "ipython",
    "version": 3
   },
   "file_extension": ".py",
   "mimetype": "text/x-python",
   "name": "python",
   "nbconvert_exporter": "python",
   "pygments_lexer": "ipython3",
   "version": "3.13.5"
  }
 },
 "nbformat": 4,
 "nbformat_minor": 5
}
